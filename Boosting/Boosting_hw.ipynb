{
  "cells": [
    {
      "cell_type": "code",
      "execution_count": 219,
      "id": "c7fc66a6",
      "metadata": {
        "id": "c7fc66a6"
      },
      "outputs": [],
      "source": [
        "from sklearn.base import BaseEstimator\n",
        "from sklearn.tree import DecisionTreeRegressor\n",
        "from sklearn.model_selection import cross_val_score\n",
        "from sklearn.metrics import mean_squared_error\n",
        "from sklearn import datasets\n",
        "import numpy as np\n",
        "import pandas as pd"
      ]
    },
    {
      "cell_type": "markdown",
      "id": "69d15c95",
      "metadata": {
        "id": "69d15c95"
      },
      "source": [
        "### Градиентный бустинг (20 баллов)\n",
        "\n",
        "\n",
        "В текущем ДЗ вам предлагается дописать свою реализацию градиентного бустинга над решающими деревьями. Основной костяк класса прописан, вам нужно заполнить строчки с TODO."
      ]
    },
    {
      "cell_type": "code",
      "execution_count": 127,
      "id": "c1dcfc95",
      "metadata": {
        "id": "c1dcfc95"
      },
      "outputs": [],
      "source": [
        "# Параметрами с которыми вы хотите обучать деревья\n",
        "TREE_PARAMS_DICT = {'max_depth': 3, 'min_samples_leaf': 10}\n",
        "# Параметр tau (learning_rate) для вашего GB\n",
        "TAU = 0.1"
      ]
    },
    {
      "cell_type": "code",
      "execution_count": 197,
      "id": "24bbb89b",
      "metadata": {
        "id": "24bbb89b"
      },
      "outputs": [],
      "source": [
        "class SimpleGB(BaseEstimator):\n",
        "    def __init__(self, tree_params_dict, iters, tau):\n",
        "        self.tree_params_dict = tree_params_dict\n",
        "        self.iters = iters\n",
        "        self.tau = tau\n",
        "        self.estimators = []\n",
        "        self.scores = []\n",
        "        \n",
        "    def fit(self, X_data, y_data):\n",
        "        self.base_algo = DecisionTreeRegressor(**self.tree_params_dict)\n",
        "        self.base_algo.fit(X_data, y_data)\n",
        "        curr_pred = self.base_algo.predict(X_data)\n",
        "        for iter_num in range(self.iters):\n",
        "            # Нужно посчитать антиградиент функции потерь по предсказниям в точке curr_pred\n",
        "            grad = -2*(curr_pred - y_data)\n",
        "            # Нужно обучить DecisionTreeRegressor предсказывать антиградиент\n",
        "            algo = DecisionTreeRegressor(**self.tree_params_dict)\n",
        "            algo.fit(X_data, grad)#TODO\n",
        "            self.estimators.append(algo)\n",
        "            # Обновите предсказания в каждой точке\n",
        "            curr_pred += algo.predict(X_data)*self.tau\n",
        "            self.scores.append(mean_squared_error(self.predict(X_data), y_data))\n",
        "\n",
        "        return self\n",
        "    \n",
        "    def predict(self, X_data):\n",
        "        # Предсказание на данных\n",
        "        res = self.base_algo.predict(X_data)\n",
        "        for estimator in self.estimators:\n",
        "            # нужно сложить все предсказания деревьев с весом self.tau\n",
        "            res += estimator.predict(X_data)*self.tau\n",
        "        return res"
      ]
    },
    {
      "cell_type": "markdown",
      "id": "d33698bf",
      "metadata": {
        "id": "d33698bf"
      },
      "source": [
        "# Проверка"
      ]
    },
    {
      "cell_type": "markdown",
      "id": "ad83efa8",
      "metadata": {
        "id": "ad83efa8"
      },
      "source": [
        "Подгрузим данные."
      ]
    },
    {
      "cell_type": "code",
      "execution_count": 4,
      "id": "3f9a5ed9",
      "metadata": {
        "id": "3f9a5ed9",
        "colab": {
          "base_uri": "https://localhost:8080/"
        },
        "outputId": "636b6cde-fd90-453b-d338-ce7d3df43db6"
      },
      "outputs": [
        {
          "output_type": "stream",
          "name": "stderr",
          "text": [
            "/usr/local/lib/python3.8/dist-packages/sklearn/utils/deprecation.py:87: FutureWarning: Function load_boston is deprecated; `load_boston` is deprecated in 1.0 and will be removed in 1.2.\n",
            "\n",
            "    The Boston housing prices dataset has an ethical problem. You can refer to\n",
            "    the documentation of this function for further details.\n",
            "\n",
            "    The scikit-learn maintainers therefore strongly discourage the use of this\n",
            "    dataset unless the purpose of the code is to study and educate about\n",
            "    ethical issues in data science and machine learning.\n",
            "\n",
            "    In this special case, you can fetch the dataset from the original\n",
            "    source::\n",
            "\n",
            "        import pandas as pd\n",
            "        import numpy as np\n",
            "\n",
            "\n",
            "        data_url = \"http://lib.stat.cmu.edu/datasets/boston\"\n",
            "        raw_df = pd.read_csv(data_url, sep=\"\\s+\", skiprows=22, header=None)\n",
            "        data = np.hstack([raw_df.values[::2, :], raw_df.values[1::2, :2]])\n",
            "        target = raw_df.values[1::2, 2]\n",
            "\n",
            "    Alternative datasets include the California housing dataset (i.e.\n",
            "    :func:`~sklearn.datasets.fetch_california_housing`) and the Ames housing\n",
            "    dataset. You can load the datasets as follows::\n",
            "\n",
            "        from sklearn.datasets import fetch_california_housing\n",
            "        housing = fetch_california_housing()\n",
            "\n",
            "    for the California housing dataset and::\n",
            "\n",
            "        from sklearn.datasets import fetch_openml\n",
            "        housing = fetch_openml(name=\"house_prices\", as_frame=True)\n",
            "\n",
            "    for the Ames housing dataset.\n",
            "    \n",
            "  warnings.warn(msg, category=FutureWarning)\n"
          ]
        }
      ],
      "source": [
        "boston = datasets.load_boston()"
      ]
    },
    {
      "cell_type": "code",
      "execution_count": 5,
      "id": "6d2cc26b",
      "metadata": {
        "id": "6d2cc26b"
      },
      "outputs": [],
      "source": [
        "data = boston['data']\n",
        "target = boston['target']"
      ]
    },
    {
      "cell_type": "code",
      "execution_count": 6,
      "id": "09aafed1",
      "metadata": {
        "id": "09aafed1"
      },
      "outputs": [],
      "source": [
        "from sklearn.ensemble import GradientBoostingRegressor"
      ]
    },
    {
      "cell_type": "code",
      "execution_count": 7,
      "id": "da7e6c44",
      "metadata": {
        "id": "da7e6c44"
      },
      "outputs": [],
      "source": [
        "gbr = GradientBoostingRegressor(max_depth=3)"
      ]
    },
    {
      "cell_type": "markdown",
      "id": "126be60d",
      "metadata": {
        "id": "126be60d"
      },
      "source": [
        "Качество реализации GBR из sklearn."
      ]
    },
    {
      "cell_type": "code",
      "execution_count": 131,
      "id": "08acf2e1",
      "metadata": {
        "id": "08acf2e1",
        "outputId": "efc74685-cdeb-42aa-e5d0-7fba39d10398",
        "colab": {
          "base_uri": "https://localhost:8080/"
        }
      },
      "outputs": [
        {
          "output_type": "stream",
          "name": "stdout",
          "text": [
            "-MSE of sklearn = -27.84019857900663\n"
          ]
        }
      ],
      "source": [
        "sklearn_mse = np.mean(cross_val_score(gbr, data, target, cv=3, scoring='neg_mean_squared_error'))\n",
        "print(\"-MSE of sklearn = {}\".format(sklearn_mse))"
      ]
    },
    {
      "cell_type": "code",
      "execution_count": 214,
      "id": "ddcd8f90",
      "metadata": {
        "id": "ddcd8f90"
      },
      "outputs": [],
      "source": [
        "algo = SimpleGB(tree_params_dict=TREE_PARAMS_DICT,iters=100,tau=TAU)"
      ]
    },
    {
      "cell_type": "markdown",
      "id": "828a2e6b",
      "metadata": {
        "id": "828a2e6b"
      },
      "source": [
        "Качество вашего алгоритма может отличаться, но не более чем на 5%. При худшем качестве, баллы не выставляются. Вы можете поменять параметры, или улучшить основной код алгоритма, чтобы добиться лучшего качества. Это будет оценено при проверке."
      ]
    },
    {
      "cell_type": "code",
      "execution_count": 215,
      "id": "49c8bc37",
      "metadata": {
        "id": "49c8bc37",
        "outputId": "2035a9b5-eadd-498b-8012-c7665b82d492",
        "colab": {
          "base_uri": "https://localhost:8080/"
        }
      },
      "outputs": [
        {
          "output_type": "stream",
          "name": "stdout",
          "text": [
            "-MSE of my model = -28.603675984538338\n"
          ]
        }
      ],
      "source": [
        "boosting_mse = np.mean(cross_val_score(algo, data, target, cv=3, scoring='neg_mean_squared_error'))\n",
        "print(\"-MSE of my model = {}\".format(boosting_mse))"
      ]
    },
    {
      "cell_type": "code",
      "source": [
        "delta_mse = 1 - sklearn_mse / boosting_mse\n",
        "if delta_mse <= 0.05:\n",
        "  print(\"Разница качеств алгоритмов меньше 5% : {:.3%}\".format(delta_mse))\n",
        "else:\n",
        "  print(\"Разница качеств алгоритмов больше 5% : {:.3%}\".format(delta_mse))"
      ],
      "metadata": {
        "colab": {
          "base_uri": "https://localhost:8080/"
        },
        "id": "YlaSiT35j4Ye",
        "outputId": "0c2df4a9-e2e1-4d2f-f07d-26331d0cdf1a"
      },
      "id": "YlaSiT35j4Ye",
      "execution_count": 216,
      "outputs": [
        {
          "output_type": "stream",
          "name": "stdout",
          "text": [
            "Разница качеств алгоритмов меньше 5% : 2.669%\n"
          ]
        }
      ]
    },
    {
      "cell_type": "markdown",
      "source": [
        "### Построим график зависимости MSE от числа алгоритмов\n"
      ],
      "metadata": {
        "id": "3sLzZqKCp-6u"
      },
      "id": "3sLzZqKCp-6u"
    },
    {
      "cell_type": "code",
      "source": [
        "algo = SimpleGB(tree_params_dict=TREE_PARAMS_DICT,iters=100,tau=TAU)\n",
        "\n",
        "algo.fit(data, target)"
      ],
      "metadata": {
        "colab": {
          "base_uri": "https://localhost:8080/"
        },
        "id": "ZXeZIlZ5qIP4",
        "outputId": "fa484b37-bbd1-4850-aa67-10c0b45d690c"
      },
      "id": "ZXeZIlZ5qIP4",
      "execution_count": 217,
      "outputs": [
        {
          "output_type": "execute_result",
          "data": {
            "text/plain": [
              "SimpleGB(iters=100, tau=0.1,\n",
              "         tree_params_dict={'max_depth': 3, 'min_samples_leaf': 10})"
            ]
          },
          "metadata": {},
          "execution_count": 217
        }
      ]
    },
    {
      "cell_type": "code",
      "source": [
        "import matplotlib.pyplot as plt\n",
        "\n",
        "plt.figure(figsize=(5, 5), dpi=100)\n",
        "plt.title(\"Score\")\n",
        "plt.plot(algo.scores, color=\"orange\")\n",
        "plt.xlabel(\"n_estimators\")\n",
        "plt.ylabel(\"MSE\")\n",
        "plt.grid()\n",
        "plt.show()"
      ],
      "metadata": {
        "colab": {
          "base_uri": "https://localhost:8080/",
          "height": 480
        },
        "id": "KlJGr-77nOjU",
        "outputId": "02869102-0a33-4564-9cea-ef37fd0b6af2"
      },
      "id": "KlJGr-77nOjU",
      "execution_count": 218,
      "outputs": [
        {
          "output_type": "display_data",
          "data": {
            "text/plain": [
              "<Figure size 500x500 with 1 Axes>"
            ],
            "image/png": "[encoded data removed]"
          },
          "metadata": {
            "needs_background": "light"
          }
        }
      ]
    }
  ],
  "metadata": {
    "kernelspec": {
      "display_name": "Python 3 (ipykernel)",
      "language": "python",
      "name": "python3"
    },
    "language_info": {
      "codemirror_mode": {
        "name": "ipython",
        "version": 3
      },
      "file_extension": ".py",
      "mimetype": "text/x-python",
      "name": "python",
      "nbconvert_exporter": "python",
      "pygments_lexer": "ipython3",
      "version": "3.8.9"
    },
    "colab": {
      "provenance": []
    }
  },
  "nbformat": 4,
  "nbformat_minor": 5
}